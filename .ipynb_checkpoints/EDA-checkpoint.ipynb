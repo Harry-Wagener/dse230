{
 "cells": [
  {
   "cell_type": "code",
   "execution_count": 1,
   "id": "e8e2cbd4-a9c6-4869-a9b6-5aafa996a6bd",
   "metadata": {},
   "outputs": [],
   "source": [
    "!sed -i '$a\\# Add the line for suppressing the NativeCodeLoader warning \\nlog4j.logger.org.apache.hadoop.util.NativeCodeLoader=ERROR,console' /$HADOOP_HOME/etc/hadoop/log4j.properties"
   ]
  },
  {
   "cell_type": "markdown",
   "id": "41bb0d3f-9ef5-436d-a0ba-8a1b04e42c2e",
   "metadata": {},
   "source": [
    "Updated: 5/1 \n",
    "\n",
    "## Initilization and Data Loading"
   ]
  },
  {
   "cell_type": "code",
   "execution_count": 2,
   "id": "0cd3ed2b-1b59-4f01-b233-92fa49558ece",
   "metadata": {},
   "outputs": [],
   "source": [
    "import pyspark \n",
    "from pyspark.sql import SparkSession\n",
    "from pyspark.sql import functions as func\n",
    "from pyspark.sql.window import Window\n",
    "\n",
    "# need these for the feature generation and UDFs and functions.col for brevity \n",
    "from pyspark.sql.functions import pandas_udf, PandasUDFType, col\n",
    "from pyspark.sql.types import IntegerType, DoubleType, ArrayType, StructType, StructField\n",
    "import pandas as pd\n",
    "import numpy as np\n",
    "# from scipy.spatial.distance import cosine  # unused \n",
    "from scipy.signal import find_peaks\n",
    "\n",
    "spark = SparkSession \\\n",
    "    .builder \\\n",
    "    .master(\"local[*]\") \\\n",
    "    .appName(\"EDA\") \\\n",
    "    .getOrCreate()\n"
   ]
  },
  {
   "cell_type": "code",
   "execution_count": 3,
   "id": "02cff669-8b11-4c54-903b-e7b7b1f8cb9e",
   "metadata": {},
   "outputs": [
    {
     "name": "stderr",
     "output_type": "stream",
     "text": [
      "                                                                                "
     ]
    }
   ],
   "source": [
    "path = \"file:///home/work/Final/Dataset/raw\"\n",
    "\n",
    "file = \"/phone/accel/*.txt\"\n",
    "df_phone_a = spark.read.csv(path + file, header=False, inferSchema=True)\n",
    "\n",
    "file = \"/phone/gyro/*.txt\"\n",
    "df_phone_g = spark.read.csv(path + file, header=False, inferSchema=True)\n",
    "\n",
    "file = \"/watch/accel/*.txt\"\n",
    "df_watch_a = spark.read.csv(path + file, header=False, inferSchema=True)\n",
    "\n",
    "file = \"/watch/gyro/*.txt\"\n",
    "df_watch_g = spark.read.csv(path + file, header=False, inferSchema=True)\n"
   ]
  },
  {
   "cell_type": "code",
   "execution_count": 4,
   "id": "5497d7bb-ae25-496a-8801-4d89d0a34784",
   "metadata": {},
   "outputs": [],
   "source": [
    "SAMPLE_RATE = 20 #Hz    # also defined in a UDF!\n"
   ]
  },
  {
   "cell_type": "code",
   "execution_count": 5,
   "id": "3163f1d9-e454-43a3-800a-14609929433c",
   "metadata": {},
   "outputs": [],
   "source": [
    "# print(f\"Phone Accel: {df_phone_a.count()}\")\n",
    "# print(f\"Phone Gyro: {df_phone_g.count()}\")\n",
    "# print(f\"Watch Accel: {df_watch_a.count()}\")\n",
    "# print(f\"Watch Gyro: {df_watch_g.count()}\")"
   ]
  },
  {
   "cell_type": "markdown",
   "id": "6edccde8-ebed-40d1-a595-286ab80e5cd6",
   "metadata": {},
   "source": [
    "### Activity Refrence \n",
    "\n",
    "| Activity                     | Code |\n",
    "|-----------------------------|------|\n",
    "| Walking                     | A    |\n",
    "| Jogging                     | B    |\n",
    "| Stairs                      | C    |\n",
    "| Sitting                     | D    |\n",
    "| Standing                    | E    |\n",
    "| Typing                      | F    |\n",
    "| Brushing Teeth              | G    |\n",
    "| Eating Soup                 | H    |\n",
    "| Eating Chips                | I    |\n",
    "| Eating Pasta                | J    |\n",
    "| Drinking from Cup           | K    |\n",
    "| Eating Sandwich             | L    |\n",
    "| Kicking (Soccer Ball)       | M    |\n",
    "| Playing Catch w/Tennis Ball| O    |\n",
    "| Dribbling (Basketball)      | P    |\n",
    "| Writing                     | Q    |\n",
    "| Clapping                    | R    |\n",
    "| Folding Clothes             | S    |"
   ]
  },
  {
   "cell_type": "markdown",
   "id": "7f82143e-2a02-4c16-aa32-9c1843872168",
   "metadata": {},
   "source": [
    "## Cleaning"
   ]
  },
  {
   "cell_type": "code",
   "execution_count": 6,
   "id": "49e24ffe-7d0d-4aec-a392-30d15915d495",
   "metadata": {},
   "outputs": [
    {
     "name": "stderr",
     "output_type": "stream",
     "text": [
      "                                                                                "
     ]
    },
    {
     "name": "stdout",
     "output_type": "stream",
     "text": [
      "rows_dropped: 0\n"
     ]
    },
    {
     "name": "stderr",
     "output_type": "stream",
     "text": [
      "                                                                                "
     ]
    },
    {
     "name": "stdout",
     "output_type": "stream",
     "text": [
      "rows_dropped: 0\n"
     ]
    },
    {
     "name": "stderr",
     "output_type": "stream",
     "text": [
      "                                                                                "
     ]
    },
    {
     "name": "stdout",
     "output_type": "stream",
     "text": [
      "rows_dropped: 0\n"
     ]
    },
    {
     "name": "stderr",
     "output_type": "stream",
     "text": [
      "[Stage 37:>                                                         (0 + 4) / 4]"
     ]
    },
    {
     "name": "stdout",
     "output_type": "stream",
     "text": [
      "rows_dropped: 0\n"
     ]
    },
    {
     "name": "stderr",
     "output_type": "stream",
     "text": [
      "                                                                                "
     ]
    }
   ],
   "source": [
    "\n",
    "def clean_df(df): \n",
    "    #Rename Cols\n",
    "    col_map = {'_c0': 'sub_id',\n",
    "           '_c1': 'activity',\n",
    "           '_c2': 'time',\n",
    "           '_c3': 'x',\n",
    "           '_c4': 'y',\n",
    "           '_c5': 'z'\n",
    "          }\n",
    "    df = df.withColumnsRenamed(col_map)\n",
    "\n",
    "    #convert z from str to double \n",
    "    df = df.withColumn('z', func.regexp_replace(\"z\", \";\", \"\").cast(\"double\"))\n",
    "\n",
    "    #Sort\n",
    "    df = df.sort(\"sub_id\", \"activity\", \"time\")\n",
    "\n",
    "    #Drop any na/null \n",
    "    count1 = df.count()\n",
    "    df = df.dropna()\n",
    "    print(f\"rows_dropped: {count1 - df.count()}\")\n",
    "\n",
    "    return df\n",
    "\n",
    "df_phone_a = clean_df(df_phone_a)\n",
    "df_phone_g = clean_df(df_phone_g)\n",
    "df_watch_a = clean_df(df_watch_a)\n",
    "df_watch_g = clean_df(df_watch_g)\n",
    "\n"
   ]
  },
  {
   "cell_type": "markdown",
   "id": "6128d930-17cd-4e27-86da-3dd29ec9b588",
   "metadata": {},
   "source": [
    "## Segmenting\n",
    "\n",
    "Segmenting the samples in to ~10 second segments will let us do some more feature enginering \n",
    "\n",
    "3 mins / 10s = 18 segment per activity per subject \n",
    "\n",
    "51 subjects * 18 segment = 918 per activity \n",
    "\n",
    "16,524 segments across all activities\n",
    "\n",
    "\n",
    "\n",
    "This should be enough for a classification analysis, if we need more we can shorten the segment length\n",
    "I also don't know if this is the optimal way to store the segments it might be better to have a list of x,y,z tuples... \n",
    "-H"
   ]
  },
  {
   "cell_type": "code",
   "execution_count": 7,
   "id": "d198237c-381b-4a71-9de1-2e8ae835fdc7",
   "metadata": {},
   "outputs": [],
   "source": [
    "# Segment into 10s of data (200 samples) \n",
    "\n",
    "def label_segments(df, num_s):\n",
    "    \"\"\" takes a spark df and num_s (int) returns a df where each row element is a list num_s elements\n",
    "\n",
    "    df must have cols as named in clean_df()\n",
    "    \"\"\"\n",
    "    window_spec = Window.partitionBy(\"sub_id\", \"activity\").orderBy(\"time\")\n",
    "\n",
    "    df = df.withColumn(\"row_num\", func.row_number().over(window_spec))\n",
    "\n",
    "    # create label for grouping \n",
    "    df = df.withColumn(\"group_id\", ((func.col(\"row_num\") - 1) / num_s).cast(\"int\"))\n",
    "\n",
    "    return df"
   ]
  },
  {
   "cell_type": "code",
   "execution_count": 8,
   "id": "dab5cd4c-e10a-4703-b471-dc71a3285d94",
   "metadata": {},
   "outputs": [],
   "source": [
    "# UDFs for gen_features \n",
    "# I started trying to keep them short and single purpose... but I called find_peaks 5 times\n",
    "# for the fft features there is one large UDF for 4 features\n",
    "\n",
    "# Element-wise summation of x, y, z streams\n",
    "@pandas_udf(ArrayType(DoubleType())) #schema returned \n",
    "def sum_xyz_udf(x_col: pd.Series, y_col: pd.Series, z_col: pd.Series) -> pd.Series: #(param: type) -> return type \n",
    "    return pd.Series([(np.array(x) + np.array(y) + np.array(z)).tolist() for x, y, z in zip(x_col, y_col, z_col)])\n",
    "\n",
    "@pandas_udf(IntegerType())\n",
    "def num_peaks_udf(col: pd.Series) -> pd.Series:\n",
    "    return col.apply(lambda x: len(find_peaks(np.array(x), distance=10)[0]))\n",
    "\n",
    "@pandas_udf(IntegerType())\n",
    "def num_peaks_udf_t_1(col: pd.Series) -> pd.Series:\n",
    "    return col.apply(lambda x: len(find_peaks(np.array(x), threshold=1)[0]))\n",
    "\n",
    "@pandas_udf(IntegerType())\n",
    "def num_peaks_udf_t_pt1(col: pd.Series) -> pd.Series:\n",
    "    return col.apply(lambda x: len(find_peaks(np.array(x), threshold=0.1)[0]))\n",
    "\n",
    "@pandas_udf(ArrayType(IntegerType()))\n",
    "def peak_locs_udf(col: pd.Series) -> pd.Series:\n",
    "    return col.apply(lambda x: find_peaks(np.array(x), distance=10)[0].tolist())\n",
    "\n",
    "@pandas_udf(IntegerType())\n",
    "def sum_peak_locs_udf(col: pd.Series) -> pd.Series:\n",
    "    return col.apply(lambda x: sum(find_peaks(np.array(x))[0]))\n",
    "\n",
    "\n",
    "@pandas_udf(StructType([\n",
    "        StructField(\"dom_freq\", DoubleType()),\n",
    "        StructField(\"second_freq\", DoubleType()),\n",
    "        StructField(\"third_freq\", DoubleType()),\n",
    "        StructField(\"mean_freq\", DoubleType())\n",
    "    ]))\n",
    "def fft_features_udf(col: pd.Series) -> pd.DataFrame:\n",
    "    \"\"\" \n",
    "    calls a extract feature function that provides top 3 frequencies and the mean freq from a fft\n",
    "    if fft doesn't find enough freq it returns 0 \n",
    "    if the values are null there are not enough values in the serries \n",
    "    \"\"\"\n",
    "    def extract_features(x):\n",
    "        \"\"\"\n",
    "        expects pd.Serries, tuple of 4 doubles: (dom_freq, second_freq, third_freq, mean_freq)\n",
    "        \"\"\"\n",
    "        SAMPLE_RATE = 20 #Hz\n",
    "        output = 0.0\n",
    "        # output = None\n",
    "        \n",
    "        x = np.array(x)\n",
    "        if len(x) < 2:\n",
    "            return (None, None, None, None)\n",
    "        \n",
    "        x = x - np.mean(x) #remove offset\n",
    "\n",
    "        # FFT\n",
    "        fft_vals = np.fft.fft(x)\n",
    "        fft_freq = np.fft.fftfreq(len(x), d=1.0/SAMPLE_RATE)\n",
    "\n",
    "        # Use only the positive spectrum\n",
    "        pos = fft_freq > 0\n",
    "        freqs = fft_freq[pos]\n",
    "        mag_s = np.abs(fft_vals[pos])  # Magnitude spectrum\n",
    "\n",
    "        if len(mag_s) >= 3: \n",
    "            top_freqs = freqs[np.argsort(mag_s)[-3:]]\n",
    "            \n",
    "            dom_freq = top_freqs[-1]\n",
    "            second_freq = top_freqs[-2]\n",
    "            third_freq = top_freqs[-3]\n",
    "            \n",
    "        elif len(mag_s) == 2:\n",
    "            top_freqs = freqs[np.argsort(mag_s)[-2:]]\n",
    "\n",
    "            dom_freq = top_freqs[-1]\n",
    "            second_freq = top_freqs[-2]\n",
    "            third_freq = output\n",
    "            \n",
    "        elif len(mag_s) == 1: \n",
    "            top_freqs = freqs[np.argsort(mag_s)[-1:]]\n",
    "\n",
    "            dom_freq = top_freqs[-1]\n",
    "            second_freq = output\n",
    "            third_freq = output\n",
    "        else: \n",
    "            dom_freq = output\n",
    "            second_freq = output\n",
    "            third_freq = output\n",
    "\n",
    "        # Dominant frequency\n",
    "        # top_freqs = freqs[np.argsort(mag_s)[-3:]] if len(mag_s) > 3 else [None, None, None]\n",
    "        # dom_freq = top_freqs[-1]\n",
    "        # second_freq = top_freqs[-2]\n",
    "        # third_freq = top_freqs[-3]\n",
    "        # # dom_freq = freqs[np.argmax(mags)] if len(mags) > 0 else None\n",
    "        \n",
    "        # Mean freq (weighted)\n",
    "        mean_freq = np.sum(freqs * mag_s) / np.sum(mag_s) if np.sum(mag_s) > 0 else output\n",
    "\n",
    "        return (dom_freq, second_freq, third_freq, mean_freq)\n",
    "    \n",
    "    return pd.DataFrame(col.apply(extract_features).tolist(), columns=[\"dom_freq\", \"second_freq\", \"third_freq\", \"mean_freq\"])\n",
    "\n",
    "\n",
    "\n",
    "def gen_features(df): \n",
    "    \"\"\" takes a spark df\n",
    "\n",
    "    dfs must have columns \"sub_id\", \"activity\", \"group_id\"\n",
    "    \"\"\"\n",
    "    df = df.groupBy(\"sub_id\", \"activity\", \"group_id\").agg(\n",
    "        func.collect_list(\"time\").alias(\"time\"), \n",
    "        func.collect_list(\"x\").alias(\"x\"),\n",
    "        func.collect_list(\"y\").alias(\"y\"),\n",
    "        func.collect_list(\"z\").alias(\"z\"), \n",
    "        func.avg(\"x\").alias(\"x_avg\"),\n",
    "        func.avg(\"y\").alias(\"y_avg\"), \n",
    "        func.avg(\"z\").alias(\"z_avg\"),\n",
    "        func.sum(\"x\").alias(\"x_sum\"),\n",
    "        func.sum(\"y\").alias(\"y_sum\"),\n",
    "        func.sum(\"z\").alias(\"z_sum\"),\n",
    "        func.stddev(\"x\").alias(\"x_stddev\"),\n",
    "        func.stddev(\"y\").alias(\"y_stddev\"),\n",
    "        func.stddev(\"z\").alias(\"z_stddev\"),\n",
    "        func.corr(\"x\", \"y\").alias(\"corr_x_y\"),\n",
    "        func.corr(\"x\", \"z\").alias(\"corr_x_z\"),\n",
    "        func.corr(\"y\", \"z\").alias(\"corr_y_z\"),\n",
    "        func.avg( func.sqrt( func.pow(\"x\", 2) + func.pow(\"y\", 2) + func.pow(\"z\", 2))).alias(\"resultant\")\n",
    "        \n",
    "    )\n",
    "\n",
    "    df = df.withColumn(\"sum_xyz\", sum_xyz_udf(\"x\", \"y\", \"z\"))\n",
    "    \n",
    "    # find_peaks \n",
    "    df = df.withColumn(\"x_num_peaks\", num_peaks_udf(\"x\")) \\\n",
    "    .withColumn(\"x_num_peaks_t_1\", num_peaks_udf_t_1('x')) \\\n",
    "    .withColumn(\"x_num_peaks_t_pt1\", num_peaks_udf_t_pt1('x'))\n",
    "\n",
    "    df = df.withColumn(\"y_num_peaks\", num_peaks_udf(\"y\")) \\\n",
    "    .withColumn(\"y_num_peaks_t_1\", num_peaks_udf_t_1('y')) \\\n",
    "    .withColumn(\"y_num_peaks_t_pt1\", num_peaks_udf_t_pt1('y'))\n",
    "\n",
    "    df = df.withColumn(\"z_num_peaks\", num_peaks_udf(\"z\")) \\\n",
    "    .withColumn(\"z_num_peaks_t_1\", num_peaks_udf_t_1('z')) \\\n",
    "    .withColumn(\"z_num_peaks_t_pt1\", num_peaks_udf_t_pt1('z'))\n",
    "\n",
    "    df = df.withColumn(\"xyz_num_peaks\", num_peaks_udf(\"sum_xyz\")) \\\n",
    "    .withColumn(\"xyz_num_peaks_t_1\", num_peaks_udf_t_1('sum_xyz')) \\\n",
    "    .withColumn(\"xyz_num_peaks_t_pt1\", num_peaks_udf_t_pt1('sum_xyz'))\n",
    "\n",
    "    # might have some information on where in the segment the peaks are found relative\n",
    "    df = df.withColumn(\"x_avg_peak_locs\", sum_peak_locs_udf(\"x\")/col(\"x_num_peaks\")) \\\n",
    "    .withColumn(\"y_avg_peak_locs\", sum_peak_locs_udf(\"y\")/col(\"y_num_peaks\")) \\\n",
    "    .withColumn(\"z_avg_peak_locs\", sum_peak_locs_udf(\"z\")/col(\"z_num_peaks\")) \\\n",
    "    .withColumn(\"xyz_avg_peak_locs\", sum_peak_locs_udf(\"sum_xyz\")/col(\"xyz_num_peaks\")) \\\n",
    "    \n",
    "    \n",
    "    # frequency features \n",
    "    # each block unpacks the udf results into 4 features \n",
    "    df = df.withColumn(\"x_fft\", fft_features_udf(\"x\")) \\\n",
    "        .withColumn(\"x_dom_freq\", func.col(\"x_fft.dom_freq\")) \\\n",
    "        .withColumn(\"x_2nd_freq\", func.col(\"x_fft.second_freq\")) \\\n",
    "        .withColumn(\"x_3rd_freq\", func.col(\"x_fft.third_freq\")) \\\n",
    "        .withColumn(\"x_mean_freq\", func.col(\"x_fft.mean_freq\")) \\\n",
    "        .drop(\"x_fft\")\n",
    "\n",
    "    df = df.withColumn(\"y_fft\", fft_features_udf(\"y\")) \\\n",
    "        .withColumn(\"y_dom_freq\", func.col(\"y_fft.dom_freq\")) \\\n",
    "        .withColumn(\"y_2nd_freq\", func.col(\"y_fft.second_freq\")) \\\n",
    "        .withColumn(\"y_3rd_freq\", func.col(\"y_fft.third_freq\")) \\\n",
    "        .withColumn(\"y_mean_freq\", func.col(\"y_fft.mean_freq\")) \\\n",
    "        .drop(\"y_fft\")\n",
    "\n",
    "    df = df.withColumn(\"z_fft\", fft_features_udf(\"z\")) \\\n",
    "        .withColumn(\"z_dom_freq\", func.col(\"z_fft.dom_freq\")) \\\n",
    "        .withColumn(\"z_2nd_freq\", func.col(\"z_fft.second_freq\")) \\\n",
    "        .withColumn(\"z_3rd_freq\", func.col(\"z_fft.third_freq\")) \\\n",
    "        .withColumn(\"z_mean_freq\", func.col(\"z_fft.mean_freq\")) \\\n",
    "        .drop(\"z_fft\")\n",
    "    \n",
    "    df = df.withColumn(\"xyz_fft\", fft_features_udf(\"sum_xyz\")) \\\n",
    "        .withColumn(\"xyz_dom_freq\", func.col(\"xyz_fft.dom_freq\")) \\\n",
    "        .withColumn(\"xyz_2nd_freq\", func.col(\"xyz_fft.second_freq\")) \\\n",
    "        .withColumn(\"xyz_3rd_freq\", func.col(\"xyz_fft.third_freq\")) \\\n",
    "        .withColumn(\"xyz_mean_freq\", func.col(\"xyz_fft.mean_freq\")) \\\n",
    "        .drop(\"xyz_fft\")\n",
    "    \n",
    "    return df\n",
    "\n",
    "\n",
    "\n",
    "SECONDS = 10\n",
    "\n",
    "df_phone_a_seg = gen_features(label_segments(df_phone_a, SAMPLE_RATE*SECONDS))\n",
    "df_phone_g_seg = gen_features(label_segments(df_phone_g, SAMPLE_RATE*SECONDS))\n",
    "df_watch_a_seg = gen_features(label_segments(df_watch_a, SAMPLE_RATE*SECONDS))\n",
    "df_watch_g_seg = gen_features(label_segments(df_watch_g, SAMPLE_RATE*SECONDS))\n",
    "\n",
    "\n",
    "\n",
    "# df_phone_a_seg.show()"
   ]
  },
  {
   "cell_type": "code",
   "execution_count": 9,
   "id": "badb7865-e8fc-4f0d-9e87-5e59209ce720",
   "metadata": {},
   "outputs": [
    {
     "name": "stdout",
     "output_type": "stream",
     "text": [
      "root\n",
      " |-- sub_id: integer (nullable = true)\n",
      " |-- activity: string (nullable = true)\n",
      " |-- group_id: integer (nullable = true)\n",
      " |-- time: array (nullable = false)\n",
      " |    |-- element: long (containsNull = false)\n",
      " |-- x: array (nullable = false)\n",
      " |    |-- element: double (containsNull = false)\n",
      " |-- y: array (nullable = false)\n",
      " |    |-- element: double (containsNull = false)\n",
      " |-- z: array (nullable = false)\n",
      " |    |-- element: double (containsNull = false)\n",
      " |-- x_avg: double (nullable = true)\n",
      " |-- y_avg: double (nullable = true)\n",
      " |-- z_avg: double (nullable = true)\n",
      " |-- x_sum: double (nullable = true)\n",
      " |-- y_sum: double (nullable = true)\n",
      " |-- z_sum: double (nullable = true)\n",
      " |-- x_stddev: double (nullable = true)\n",
      " |-- y_stddev: double (nullable = true)\n",
      " |-- z_stddev: double (nullable = true)\n",
      " |-- corr_x_y: double (nullable = true)\n",
      " |-- corr_x_z: double (nullable = true)\n",
      " |-- corr_y_z: double (nullable = true)\n",
      " |-- resultant: double (nullable = true)\n",
      " |-- sum_xyz: array (nullable = true)\n",
      " |    |-- element: double (containsNull = true)\n",
      " |-- x_num_peaks: integer (nullable = true)\n",
      " |-- x_num_peaks_t_1: integer (nullable = true)\n",
      " |-- x_num_peaks_t_pt1: integer (nullable = true)\n",
      " |-- y_num_peaks: integer (nullable = true)\n",
      " |-- y_num_peaks_t_1: integer (nullable = true)\n",
      " |-- y_num_peaks_t_pt1: integer (nullable = true)\n",
      " |-- z_num_peaks: integer (nullable = true)\n",
      " |-- z_num_peaks_t_1: integer (nullable = true)\n",
      " |-- z_num_peaks_t_pt1: integer (nullable = true)\n",
      " |-- xyz_num_peaks: integer (nullable = true)\n",
      " |-- xyz_num_peaks_t_1: integer (nullable = true)\n",
      " |-- xyz_num_peaks_t_pt1: integer (nullable = true)\n",
      " |-- x_avg_peak_locs: double (nullable = true)\n",
      " |-- y_avg_peak_locs: double (nullable = true)\n",
      " |-- z_avg_peak_locs: double (nullable = true)\n",
      " |-- xyz_avg_peak_locs: double (nullable = true)\n",
      " |-- x_dom_freq: double (nullable = true)\n",
      " |-- x_2nd_freq: double (nullable = true)\n",
      " |-- x_3rd_freq: double (nullable = true)\n",
      " |-- x_mean_freq: double (nullable = true)\n",
      " |-- y_dom_freq: double (nullable = true)\n",
      " |-- y_2nd_freq: double (nullable = true)\n",
      " |-- y_3rd_freq: double (nullable = true)\n",
      " |-- y_mean_freq: double (nullable = true)\n",
      " |-- z_dom_freq: double (nullable = true)\n",
      " |-- z_2nd_freq: double (nullable = true)\n",
      " |-- z_3rd_freq: double (nullable = true)\n",
      " |-- z_mean_freq: double (nullable = true)\n",
      " |-- xyz_dom_freq: double (nullable = true)\n",
      " |-- xyz_2nd_freq: double (nullable = true)\n",
      " |-- xyz_3rd_freq: double (nullable = true)\n",
      " |-- xyz_mean_freq: double (nullable = true)\n",
      "\n"
     ]
    }
   ],
   "source": [
    "df_phone_a_seg.printSchema()"
   ]
  },
  {
   "cell_type": "code",
   "execution_count": 10,
   "id": "305724b6-f8f4-43d1-aa70-a37e90cf5762",
   "metadata": {},
   "outputs": [],
   "source": [
    "# df_phone_a_seg.select(\"activity\",\n",
    "#                       \"x_num_peaks\", \n",
    "#                       \"y_num_peaks\",\n",
    "#                       \"z_num_peaks\",\n",
    "#                       \"xyz_num_peaks\").show(20)"
   ]
  },
  {
   "cell_type": "code",
   "execution_count": 11,
   "id": "92471f69-4cc4-4840-b869-83a339ada86b",
   "metadata": {
    "scrolled": true
   },
   "outputs": [],
   "source": [
    "# df_phone_a_seg.select(\"activity\",\n",
    "#                       \"x_num_peaks_t_pt1\",\n",
    "#                       \"y_num_peaks_t_pt1\", \n",
    "#                       \"z_num_peaks_t_pt1\",\n",
    "#                       \"xyz_num_peaks_t_pt1\").show(20)"
   ]
  },
  {
   "cell_type": "code",
   "execution_count": 12,
   "id": "accddfed-03f8-4edc-a7bb-356963e5df6a",
   "metadata": {},
   "outputs": [
    {
     "name": "stderr",
     "output_type": "stream",
     "text": [
      "                                                                                "
     ]
    },
    {
     "name": "stdout",
     "output_type": "stream",
     "text": [
      "+--------+--------------+--------------+---------------+--------------+--------------+---------------+--------------+--------------+---------------+----------------+----------------+-----------------+\n",
      "|activity|x_dom_freq_nul|x_2nd_freq_nul|x_mean_freq_nul|y_dom_freq_nul|y_2nd_freq_nul|y_mean_freq_nul|z_dom_freq_nul|z_2nd_freq_nul|z_mean_freq_nul|xyz_dom_freq_nul|xyz_2nd_freq_nul|xyz_mean_freq_nul|\n",
      "+--------+--------------+--------------+---------------+--------------+--------------+---------------+--------------+--------------+---------------+----------------+----------------+-----------------+\n",
      "|       A|             2|             2|              2|             2|             2|              2|             2|             2|              2|               2|               2|                2|\n",
      "|       B|             3|             3|              3|             3|             3|              3|             3|             3|              3|               3|               3|                3|\n",
      "|       C|             1|             1|              1|             1|             1|              1|             1|             1|              1|               1|               1|                1|\n",
      "|       D|             2|             2|              2|             2|             2|              2|             2|             2|              2|               2|               2|                2|\n",
      "|       E|             3|             3|              3|             3|             3|              3|             3|             3|              3|               3|               3|                3|\n",
      "|       F|             1|             1|              1|             1|             1|              1|             1|             1|              1|               1|               1|                1|\n",
      "|       G|             1|             1|              1|             1|             1|              1|             1|             1|              1|               1|               1|                1|\n",
      "|       H|             2|             2|              2|             2|             2|              2|             2|             2|              2|               2|               2|                2|\n",
      "|       I|             1|             1|              1|             1|             1|              1|             1|             1|              1|               1|               1|                1|\n",
      "|       J|             3|             3|              3|             3|             3|              3|             3|             3|              3|               3|               3|                3|\n",
      "|       K|             2|             2|              2|             2|             2|              2|             2|             2|              2|               2|               2|                2|\n",
      "|       L|             1|             1|              1|             1|             1|              1|             1|             1|              1|               1|               1|                1|\n",
      "|       M|             2|             2|              2|             2|             2|              2|             2|             2|              2|               2|               2|                2|\n",
      "|       O|             3|             3|              3|             3|             3|              3|             3|             3|              3|               3|               3|                3|\n",
      "|       P|             3|             3|              3|             3|             3|              3|             3|             3|              3|               3|               3|                3|\n",
      "|       Q|             1|             1|              1|             1|             1|              1|             1|             1|              1|               1|               1|                1|\n",
      "|       R|             1|             1|              1|             1|             1|              1|             1|             1|              1|               1|               1|                1|\n",
      "|       S|             1|             1|              1|             1|             1|              1|             1|             1|              1|               1|               1|                1|\n",
      "+--------+--------------+--------------+---------------+--------------+--------------+---------------+--------------+--------------+---------------+----------------+----------------+-----------------+\n",
      "\n"
     ]
    },
    {
     "name": "stderr",
     "output_type": "stream",
     "text": [
      "                                                                                "
     ]
    },
    {
     "name": "stdout",
     "output_type": "stream",
     "text": [
      "+--------+--------------+--------------+---------------+--------------+--------------+---------------+--------------+--------------+---------------+----------------+----------------+-----------------+\n",
      "|activity|x_dom_freq_nul|x_2nd_freq_nul|x_mean_freq_nul|y_dom_freq_nul|y_2nd_freq_nul|y_mean_freq_nul|z_dom_freq_nul|z_2nd_freq_nul|z_mean_freq_nul|xyz_dom_freq_nul|xyz_2nd_freq_nul|xyz_mean_freq_nul|\n",
      "+--------+--------------+--------------+---------------+--------------+--------------+---------------+--------------+--------------+---------------+----------------+----------------+-----------------+\n",
      "|       A|             7|             7|              7|             7|             7|              7|             7|             7|              7|               7|               7|                7|\n",
      "|       B|             6|             6|              6|             6|             6|              6|             6|             6|              6|               6|               6|                6|\n",
      "|       C|             1|             1|              1|             1|             1|              1|             1|             1|              1|               1|               1|                1|\n",
      "|       D|             2|             2|              2|             2|             2|              2|             2|             2|              2|               2|               2|                2|\n",
      "|       E|             3|             3|              3|             3|             3|              3|             3|             3|              3|               3|               3|                3|\n",
      "|       F|             2|             2|              2|             2|             2|              2|             2|             2|              2|               2|               2|                2|\n",
      "|       G|             2|             2|              2|             2|             2|              2|             2|             2|              2|               2|               2|                2|\n",
      "|       H|             2|             2|              2|             2|             2|              2|             2|             2|              2|               2|               2|                2|\n",
      "|       I|             1|             1|              1|             1|             1|              1|             1|             1|              1|               1|               1|                1|\n",
      "|       J|             0|             0|              0|             0|             0|              0|             0|             0|              0|               0|               0|                0|\n",
      "|       K|             3|             3|              3|             3|             3|              3|             3|             3|              3|               3|               3|                3|\n",
      "|       L|             0|             0|              0|             0|             0|              0|             0|             0|              0|               0|               0|                0|\n",
      "|       M|             6|             6|              6|             6|             6|              6|             6|             6|              6|               6|               6|                6|\n",
      "|       O|             7|             7|              7|             7|             7|              7|             7|             7|              7|               7|               7|                7|\n",
      "|       P|             4|             4|              4|             4|             4|              4|             4|             4|              4|               4|               4|                4|\n",
      "|       Q|             2|             2|              2|             2|             2|              2|             2|             2|              2|               2|               2|                2|\n",
      "|       R|             3|             3|              3|             3|             3|              3|             3|             3|              3|               3|               3|                3|\n",
      "|       S|             2|             2|              2|             2|             2|              2|             2|             2|              2|               2|               2|                2|\n",
      "+--------+--------------+--------------+---------------+--------------+--------------+---------------+--------------+--------------+---------------+----------------+----------------+-----------------+\n",
      "\n"
     ]
    },
    {
     "name": "stderr",
     "output_type": "stream",
     "text": [
      "                                                                                "
     ]
    },
    {
     "name": "stdout",
     "output_type": "stream",
     "text": [
      "+--------+--------------+--------------+---------------+--------------+--------------+---------------+--------------+--------------+---------------+----------------+----------------+-----------------+\n",
      "|activity|x_dom_freq_nul|x_2nd_freq_nul|x_mean_freq_nul|y_dom_freq_nul|y_2nd_freq_nul|y_mean_freq_nul|z_dom_freq_nul|z_2nd_freq_nul|z_mean_freq_nul|xyz_dom_freq_nul|xyz_2nd_freq_nul|xyz_mean_freq_nul|\n",
      "+--------+--------------+--------------+---------------+--------------+--------------+---------------+--------------+--------------+---------------+----------------+----------------+-----------------+\n",
      "|       A|             0|             0|              0|             0|             0|              0|             0|             0|              0|               0|               0|                0|\n",
      "|       B|             0|             0|              0|             0|             0|              0|             0|             0|              0|               0|               0|                0|\n",
      "|       C|             0|             0|              0|             0|             0|              0|             0|             0|              0|               0|               0|                0|\n",
      "|       D|             0|             0|              0|             0|             0|              0|             0|             0|              0|               0|               0|                0|\n",
      "|       E|             0|             0|              0|             0|             0|              0|             0|             0|              0|               0|               0|                0|\n",
      "|       F|             0|             0|              0|             0|             0|              0|             0|             0|              0|               0|               0|                0|\n",
      "|       G|             1|             1|              1|             1|             1|              1|             1|             1|              1|               1|               1|                1|\n",
      "|       H|             0|             0|              0|             0|             0|              0|             0|             0|              0|               0|               0|                0|\n",
      "|       I|             0|             0|              0|             0|             0|              0|             0|             0|              0|               0|               0|                0|\n",
      "|       J|             0|             0|              0|             0|             0|              0|             0|             0|              0|               0|               0|                0|\n",
      "|       K|             1|             1|              1|             1|             1|              1|             1|             1|              1|               1|               1|                1|\n",
      "|       L|             0|             0|              0|             0|             0|              0|             0|             0|              0|               0|               0|                0|\n",
      "|       M|             0|             0|              0|             0|             0|              0|             0|             0|              0|               0|               0|                0|\n",
      "|       O|             0|             0|              0|             0|             0|              0|             0|             0|              0|               0|               0|                0|\n",
      "|       P|             0|             0|              0|             0|             0|              0|             0|             0|              0|               0|               0|                0|\n",
      "|       Q|             0|             0|              0|             0|             0|              0|             0|             0|              0|               0|               0|                0|\n",
      "|       R|             0|             0|              0|             0|             0|              0|             0|             0|              0|               0|               0|                0|\n",
      "|       S|             0|             0|              0|             0|             0|              0|             0|             0|              0|               0|               0|                0|\n",
      "+--------+--------------+--------------+---------------+--------------+--------------+---------------+--------------+--------------+---------------+----------------+----------------+-----------------+\n",
      "\n"
     ]
    },
    {
     "name": "stderr",
     "output_type": "stream",
     "text": [
      "[Stage 79:=======================>                                  (2 + 3) / 5]"
     ]
    },
    {
     "name": "stdout",
     "output_type": "stream",
     "text": [
      "+--------+--------------+--------------+---------------+--------------+--------------+---------------+--------------+--------------+---------------+----------------+----------------+-----------------+\n",
      "|activity|x_dom_freq_nul|x_2nd_freq_nul|x_mean_freq_nul|y_dom_freq_nul|y_2nd_freq_nul|y_mean_freq_nul|z_dom_freq_nul|z_2nd_freq_nul|z_mean_freq_nul|xyz_dom_freq_nul|xyz_2nd_freq_nul|xyz_mean_freq_nul|\n",
      "+--------+--------------+--------------+---------------+--------------+--------------+---------------+--------------+--------------+---------------+----------------+----------------+-----------------+\n",
      "|       A|             1|             1|              1|             1|             1|              1|             1|             1|              1|               1|               1|                1|\n",
      "|       B|             1|             1|              1|             1|             1|              1|             1|             1|              1|               1|               1|                1|\n",
      "|       C|             2|             2|              2|             2|             2|              2|             2|             2|              2|               2|               2|                2|\n",
      "|       D|             4|             4|              4|             4|             4|              4|             4|             4|              4|               4|               4|                4|\n",
      "|       E|             4|             4|              4|             4|             4|              4|             4|             4|              4|               4|               4|                4|\n",
      "|       F|             5|             5|              5|             5|             5|              5|             5|             5|              5|               5|               5|                5|\n",
      "|       G|             4|             4|              4|             4|             4|              4|             4|             4|              4|               4|               4|                4|\n",
      "|       H|             3|             3|              3|             3|             3|              3|             3|             3|              3|               3|               3|                3|\n",
      "|       I|             3|             3|              3|             3|             3|              3|             3|             3|              3|               3|               3|                3|\n",
      "|       J|             3|             3|              3|             3|             3|              3|             3|             3|              3|               3|               3|                3|\n",
      "|       K|             5|             5|              5|             5|             5|              5|             5|             5|              5|               5|               5|                5|\n",
      "|       L|             3|             3|              3|             3|             3|              3|             3|             3|              3|               3|               3|                3|\n",
      "|       M|             1|             1|              1|             1|             1|              1|             1|             1|              1|               1|               1|                1|\n",
      "|       O|             1|             1|              1|             1|             1|              1|             1|             1|              1|               1|               1|                1|\n",
      "|       P|             2|             2|              2|             2|             2|              2|             2|             2|              2|               2|               2|                2|\n",
      "|       Q|             5|             5|              5|             5|             5|              5|             5|             5|              5|               5|               5|                5|\n",
      "|       R|             5|             5|              5|             5|             5|              5|             5|             5|              5|               5|               5|                5|\n",
      "|       S|             5|             5|              5|             5|             5|              5|             5|             5|              5|               5|               5|                5|\n",
      "+--------+--------------+--------------+---------------+--------------+--------------+---------------+--------------+--------------+---------------+----------------+----------------+-----------------+\n",
      "\n"
     ]
    },
    {
     "name": "stderr",
     "output_type": "stream",
     "text": [
      "                                                                                "
     ]
    }
   ],
   "source": [
    "def count_nulls(df):\n",
    "    return df.groupby(\"activity\").agg(\n",
    "        func.sum(col(\"x_dom_freq\").isNull().cast(\"int\")).alias(\"x_dom_freq_nul\"),\n",
    "        func.sum(col(\"x_2nd_freq\").isNull().cast(\"int\")).alias(\"x_2nd_freq\" + \"_nul\"),\n",
    "        func.sum(col(\"x_mean_freq\").isNull().cast(\"int\")).alias(\"x_mean_freq\" + \"_nul\"),\n",
    "        func.sum(col(\"y_dom_freq\").isNull().cast(\"int\")).alias(\"y_dom_freq\" + \"_nul\"),\n",
    "        func.sum(col(\"y_2nd_freq\").isNull().cast(\"int\")).alias(\"y_2nd_freq\" + \"_nul\"),\n",
    "        func.sum(col(\"y_mean_freq\").isNull().cast(\"int\")).alias(\"y_mean_freq\" + \"_nul\"),\n",
    "        func.sum(col(\"z_dom_freq\").isNull().cast(\"int\")).alias(\"z_dom_freq\" + \"_nul\"),\n",
    "        func.sum(col(\"z_2nd_freq\").isNull().cast(\"int\")).alias(\"z_2nd_freq\" + \"_nul\"),\n",
    "        func.sum(col(\"z_mean_freq\").isNull().cast(\"int\")).alias(\"z_mean_freq\" + \"_nul\"),\n",
    "        func.sum(col(\"xyz_dom_freq\").isNull().cast(\"int\")).alias(\"xyz_dom_freq\" + \"_nul\"),\n",
    "        func.sum(col(\"xyz_2nd_freq\").isNull().cast(\"int\")).alias(\"xyz_2nd_freq\" + \"_nul\"),\n",
    "        func.sum(col(\"xyz_mean_freq\").isNull().cast(\"int\")).alias(\"xyz_mean_freq\" + \"_nul\")\n",
    "\n",
    "    ).sort(\"activity\")\n",
    "count_nulls(df_phone_a_seg).show()\n",
    "count_nulls(df_watch_a_seg).show()\n",
    "count_nulls(df_phone_g_seg).show()\n",
    "count_nulls(df_watch_g_seg).show()\n"
   ]
  },
  {
   "cell_type": "code",
   "execution_count": 15,
   "id": "49e9f125-9f45-4500-a52a-7fc2ecd93bf1",
   "metadata": {},
   "outputs": [
    {
     "name": "stderr",
     "output_type": "stream",
     "text": [
      "[Stage 101:==============>                                          (1 + 3) / 4]"
     ]
    },
    {
     "name": "stdout",
     "output_type": "stream",
     "text": [
      "+--------+--------------+--------------+---------------+--------------+--------------+---------------+--------------+--------------+---------------+----------------+----------------+-----------------+\n",
      "|activity|x_dom_freq_nul|x_2nd_freq_nul|x_mean_freq_nul|y_dom_freq_nul|y_2nd_freq_nul|y_mean_freq_nul|z_dom_freq_nul|z_2nd_freq_nul|z_mean_freq_nul|xyz_dom_freq_nul|xyz_2nd_freq_nul|xyz_mean_freq_nul|\n",
      "+--------+--------------+--------------+---------------+--------------+--------------+---------------+--------------+--------------+---------------+----------------+----------------+-----------------+\n",
      "|       A|             0|             0|              0|             0|             0|              0|             0|             0|              0|               0|               0|                0|\n",
      "|       B|             0|             0|              0|             0|             0|              0|             0|             0|              0|               0|               0|                0|\n",
      "|       C|             0|             0|              0|             0|             0|              0|             0|             0|              0|               0|               0|                0|\n",
      "|       D|             0|             0|              0|             0|             0|              0|             0|             0|              0|               0|               0|                0|\n",
      "|       E|             0|             0|              0|             0|             0|              0|             0|             0|              0|               0|               0|                0|\n",
      "|       F|             0|             0|              0|             0|             0|              0|             0|             0|              0|               0|               0|                0|\n",
      "|       G|             0|             0|              0|             0|             0|              0|             0|             0|              0|               0|               0|                0|\n",
      "|       H|             0|             0|              0|             0|             0|              0|             0|             0|              0|               0|               0|                0|\n",
      "|       I|             0|             0|              0|             0|             0|              0|             0|             0|              0|               0|               0|                0|\n",
      "|       J|             0|             0|              0|             0|             0|              0|             0|             0|              0|               0|               0|                0|\n",
      "|       K|             0|             0|              0|             0|             0|              0|             0|             0|              0|               0|               0|                0|\n",
      "|       L|             0|             0|              0|             0|             0|              0|             0|             0|              0|               0|               0|                0|\n",
      "|       M|             0|             0|              0|             0|             0|              0|             0|             0|              0|               0|               0|                0|\n",
      "|       O|             0|             0|              0|             0|             0|              0|             0|             0|              0|               0|               0|                0|\n",
      "|       P|             0|             0|              0|             0|             0|              0|             0|             0|              0|               0|               0|                0|\n",
      "|       Q|             0|             0|              0|             0|             0|              0|             0|             0|              0|               0|               0|                0|\n",
      "|       R|             0|             0|              0|             0|             0|              0|             0|             0|              0|               0|               0|                0|\n",
      "|       S|             0|             0|              0|             0|             0|              0|             0|             0|              0|               0|               0|                0|\n",
      "+--------+--------------+--------------+---------------+--------------+--------------+---------------+--------------+--------------+---------------+----------------+----------------+-----------------+\n",
      "\n"
     ]
    },
    {
     "name": "stderr",
     "output_type": "stream",
     "text": [
      "                                                                                "
     ]
    }
   ],
   "source": [
    "# # confirms nulls are from the leftover data that isn't handled with segmenting\n",
    "\n",
    "# min_samples = SAMPLE_RATE*SECONDS\n",
    "\n",
    "# filtered_df = df_phone_g_seg.filter(func.size(col(\"x\")) == min_samples)\n",
    "\n",
    "# count_nulls(filtered_df).show()"
   ]
  },
  {
   "cell_type": "code",
   "execution_count": 16,
   "id": "443631df-1057-4c2f-a8b7-86986cdc6fc3",
   "metadata": {},
   "outputs": [],
   "source": [
    "## Remove row that have too few samples \n",
    "\n",
    "min_samples = SAMPLE_RATE*SECONDS\n",
    "\n",
    "df_phone_a_seg = df_phone_a_seg.filter(func.size(col(\"x\")) == min_samples)\n",
    "df_phone_g_seg = df_phone_g_seg.filter(func.size(col(\"x\")) == min_samples)\n",
    "df_watch_a_seg = df_watch_a_seg.filter(func.size(col(\"x\")) == min_samples)\n",
    "df_watch_g_seg = df_watch_g_seg.filter(func.size(col(\"x\")) == min_samples)"
   ]
  },
  {
   "cell_type": "code",
   "execution_count": 17,
   "id": "58278ab1-f9c1-4b50-b6b9-5cdc86ba9b36",
   "metadata": {},
   "outputs": [
    {
     "name": "stderr",
     "output_type": "stream",
     "text": [
      "[Stage 112:=============================================>           (4 + 1) / 5]"
     ]
    },
    {
     "name": "stdout",
     "output_type": "stream",
     "text": [
      "+-------+-------------------+------------------+-------------------+------------------+------------------+------------------+-------------------+------------------+------------------+------------------+------------------+------------------+------------------+------------------+-------------------+------------------+------------------+\n",
      "|summary|              x_avg|        x_dom_freq|         x_2nd_freq|        x_3rd_freq|       x_mean_freq|        y_dom_freq|         y_2nd_freq|        y_3rd_freq|       y_mean_freq|        z_dom_freq|        z_2nd_freq|        z_3rd_freq|       z_mean_freq|      xyz_dom_freq|       xyz_2nd_freq|      xyz_3rd_freq|     xyz_mean_freq|\n",
      "+-------+-------------------+------------------+-------------------+------------------+------------------+------------------+-------------------+------------------+------------------+------------------+------------------+------------------+------------------+------------------+-------------------+------------------+------------------+\n",
      "|  count|              23397|             23397|              23397|             23397|             23397|             23397|              23397|             23397|             23397|             23397|             23397|             23397|             23397|             23397|              23397|             23397|             23397|\n",
      "|   mean| 0.1393972587080119|1.2478138222849489| 1.5391033038423798|1.7400094029149045|3.3452436422176928|1.3321494208659639| 1.6117536436295368|1.8140872761465137| 3.403971816628122|1.1728213018763458|1.5082574689062767|1.7579048595973767|3.5167082855208056|1.2118946873531158| 1.4969654229174734|1.7136256785057866| 3.428393876978232|\n",
      "| stddev|  5.315747451300769|1.4599064187315771| 1.5934716037300776|1.6854733855318196|0.8919706657412656|1.4901712120784176| 1.5937421399710556| 1.661191713433016|0.8799292140321795|1.6416841411687528|1.8083489324679152|1.9084111912156434|0.9251179525843014|1.4862710137338973| 1.6120918605681358|1.7025936905178305|0.8786945725509389|\n",
      "|    min|-10.106288320324996|               0.1|                0.1|               0.1|0.7047553640219105|               0.1|                0.1|               0.1|0.8964405187007525|               0.1|               0.1|               0.1|0.8784622604334053|               0.1|                0.1|               0.1|0.8886463906435275|\n",
      "|    25%| -3.596312414964499|               0.1|0.30000000000000004|               0.4|2.6647514394308103|               0.1|0.30000000000000004|               0.5| 2.705757355813957|               0.1|               0.2|               0.4| 2.800813374441587|               0.1|0.30000000000000004|               0.4| 2.759091161638685|\n",
      "|    50%|0.06944435115349998|0.7000000000000001|                1.1|1.2000000000000002| 3.293186872690719|               0.8| 1.2000000000000002|1.4000000000000001|3.3477060436906267|               0.4|0.7000000000000001|               1.0|3.4840236182628104|0.7000000000000001|                1.0|1.2000000000000002| 3.399560572833446|\n",
      "|    75%|  4.147407603499998|1.9000000000000001| 2.3000000000000003|               2.5| 4.002796930598226|               2.0| 2.4000000000000004|               2.7| 4.092930020941629|1.7000000000000002|               2.2|               2.6|   4.2398125088888|               1.8|                2.2|               2.5|4.0836135921195105|\n",
      "|    max| 12.117868837499993|               9.9|                9.9|               9.9| 7.189937524270264|               9.9|                9.9|               9.9|  6.49930770245481|               9.9|               9.9|               9.9| 7.167605684845202|               9.9|                9.9|               9.9| 6.606386542118226|\n",
      "+-------+-------------------+------------------+-------------------+------------------+------------------+------------------+-------------------+------------------+------------------+------------------+------------------+------------------+------------------+------------------+-------------------+------------------+------------------+\n",
      "\n"
     ]
    },
    {
     "name": "stderr",
     "output_type": "stream",
     "text": [
      "                                                                                "
     ]
    }
   ],
   "source": [
    "\n",
    "\n",
    "\n",
    "def freq_sum(df):\n",
    "    return df.select(\"x_avg\",\n",
    "              \"x_dom_freq\",\n",
    "              \"x_2nd_freq\",\n",
    "              \"x_3rd_freq\", \n",
    "              \"x_mean_freq\",\n",
    "              \"y_dom_freq\",\n",
    "              \"y_2nd_freq\",\n",
    "              \"y_3rd_freq\", \n",
    "              \"y_mean_freq\",\n",
    "              \"z_dom_freq\",\n",
    "              \"z_2nd_freq\",\n",
    "              \"z_3rd_freq\", \n",
    "              \"z_mean_freq\",\n",
    "              \"xyz_dom_freq\",\n",
    "              \"xyz_2nd_freq\",\n",
    "              \"xyz_3rd_freq\", \n",
    "              \"xyz_mean_freq\"\n",
    "                    ).summary().show()\n",
    "\n",
    "freq_sum(df_phone_a_seg) \n",
    "# freq_sum(df_phone_g_seg)   \n",
    "# freq_sum(df_watch_a_seg) \n",
    "# freq_sum(df_watch_g_seg) \n"
   ]
  },
  {
   "cell_type": "markdown",
   "id": "3b0ad474-90d2-4dcd-b8cf-1e32a4224a65",
   "metadata": {},
   "source": [
    "## Summary Stats and Plots "
   ]
  },
  {
   "cell_type": "code",
   "execution_count": 20,
   "id": "58c16ca8-5db9-4ae0-a1c7-1c0ea1225e76",
   "metadata": {},
   "outputs": [
    {
     "name": "stderr",
     "output_type": "stream",
     "text": [
      "                                                                                "
     ]
    },
    {
     "name": "stdout",
     "output_type": "stream",
     "text": [
      "phone_a\n"
     ]
    },
    {
     "name": "stderr",
     "output_type": "stream",
     "text": [
      "                                                                                "
     ]
    },
    {
     "name": "stdout",
     "output_type": "stream",
     "text": [
      "+--------+-----+---------+-----+---------+-----+---------+-------------+------------+-------------+---------+-----------+-----------+-------+-------+\n",
      "|activity|x_avg|x_std_avg|y_avg|y_std_avg|z_avg|z_std_avg|resultant_avg|dom_freq_avg|mean_freq_avg|num_peaks|num_peaks_1|num_peaks_2|num_seg|percent|\n",
      "+--------+-----+---------+-----+---------+-----+---------+-------------+------------+-------------+---------+-----------+-----------+-------+-------+\n",
      "|       A| 0.97|     3.46|-2.31|     3.62|-0.16|     3.41|        10.89|        1.51|          3.8|    14.44|      23.87|      38.79|   1364|   5.83|\n",
      "|       B| 0.23|     6.92|-2.83|     8.39| 0.09|     5.76|        13.28|        1.95|         3.99|    13.46|      31.03|      39.59|   1309|   5.59|\n",
      "|       C| 0.21|     2.78|-3.34|     3.32|-0.61|     2.68|         10.3|        1.26|         3.58|    14.32|      19.86|      37.39|   1243|   5.31|\n",
      "|       D|-0.13|      0.2| -0.9|     0.19| 0.43|      0.2|         9.73|        1.35|         3.53|    14.54|       0.49|       5.65|   1288|    5.5|\n",
      "|       E|-0.59|     0.27|-2.05|     0.19|-0.71|     0.31|         9.75|        0.65|         3.25|    14.47|       0.43|       9.72|   1313|   5.61|\n",
      "|       F| -0.4|     0.13|-1.72|     0.17| 0.26|     0.15|         9.73|        1.35|         3.55|    14.43|       1.56|       6.95|   1198|   5.12|\n",
      "|       G|-0.13|     0.26|-1.26|     0.31|-0.11|     0.37|         9.84|         1.6|         3.31|    14.19|       1.23|       9.85|   1313|   5.61|\n",
      "|       H|-0.03|     0.28|-0.77|     0.25|  1.1|     0.26|         9.72|        0.91|         3.21|    14.51|       0.35|       6.85|   1319|   5.64|\n",
      "|       I|-0.75|     0.27|-0.58|     0.26| 1.88|      0.3|         9.68|        1.11|         3.28|    14.52|       0.52|       6.75|   1272|   5.44|\n",
      "|       J| 1.25|     0.22|-1.17|     0.23| 1.31|     0.24|         9.74|        0.73|         3.17|    14.47|       0.66|       6.87|   1214|   5.19|\n",
      "|       K| 0.88|     0.24|-1.04|     0.29| 0.74|     0.24|         9.77|        1.07|         3.33|    14.46|       0.55|       6.18|   1391|   5.95|\n",
      "|       L| 1.01|      0.3|-0.79|     0.33| 1.45|     0.29|         9.68|        1.04|         3.39|    14.54|       0.98|       8.27|   1294|   5.53|\n",
      "|       M| 0.33|      2.7|-2.71|     2.54|-0.31|     2.74|        10.43|        1.27|         3.48|    14.16|      15.56|       34.6|   1359|   5.81|\n",
      "|       O|-0.24|     1.74|-2.37|     1.53|-0.23|     1.81|        10.08|        0.77|         3.17|    14.08|       7.63|      28.48|   1326|   5.67|\n",
      "|       P| 0.52|     1.87|-1.86|     1.56| 0.19|     1.87|        10.19|        1.37|         3.43|    14.18|      10.37|      30.43|   1330|   5.68|\n",
      "|       Q|-0.18|     0.14|-1.75|     0.15| 0.98|     0.17|          9.7|        1.11|          3.5|    14.48|       1.14|       6.57|   1267|   5.42|\n",
      "|       R| 0.16|     0.38|-1.07|     0.41| -0.1|     0.52|         9.86|        2.39|         3.92|    14.37|       3.28|      18.25|   1305|   5.58|\n",
      "|       S|-0.69|      0.9|-1.74|     0.66| 0.17|     1.03|         9.77|        0.37|         2.82|    14.27|       2.99|       20.8|   1292|   5.52|\n",
      "+--------+-----+---------+-----+---------+-----+---------+-------------+------------+-------------+---------+-----------+-----------+-------+-------+\n",
      "\n",
      "phone_g\n"
     ]
    },
    {
     "name": "stderr",
     "output_type": "stream",
     "text": [
      "                                                                                "
     ]
    },
    {
     "name": "stdout",
     "output_type": "stream",
     "text": [
      "+--------+-----+---------+-----+---------+-----+---------+-------------+------------+-------------+---------+-----------+-----------+-------+-------+\n",
      "|activity|x_avg|x_std_avg|y_avg|y_std_avg|z_avg|z_std_avg|resultant_avg|dom_freq_avg|mean_freq_avg|num_peaks|num_peaks_1|num_peaks_2|num_seg|percent|\n",
      "+--------+-----+---------+-----+---------+-----+---------+-------------+------------+-------------+---------+-----------+-----------+-------+-------+\n",
      "|       A|  0.0|     1.25| 0.01|     1.41|-0.01|     0.89|         1.94|        1.53|          3.7|    14.29|      11.65|       35.7|    984|   5.66|\n",
      "|       B|-0.03|     2.03|-0.03|     2.24|-0.02|     1.61|         3.14|        2.09|         4.16|    13.52|      23.95|      42.71|    967|   5.56|\n",
      "|       C| 0.01|     1.12|-0.02|     1.18|  0.0|      0.8|         1.65|        0.99|         3.22|     14.2|       6.82|      32.09|    953|   5.48|\n",
      "|       D|  0.0|     0.07|  0.0|     0.07|  0.0|     0.07|         0.09|        1.28|         3.15|    14.05|       0.11|        1.5|    975|    5.6|\n",
      "|       E|  0.0|     0.09|  0.0|     0.13|  0.0|     0.06|         0.12|        0.88|         2.93|     14.1|        0.1|       2.74|    975|    5.6|\n",
      "|       F|  0.0|     0.07|  0.0|     0.05|  0.0|     0.05|         0.08|        1.56|         3.16|    14.19|       0.38|       3.01|    937|   5.39|\n",
      "|       G|  0.0|     0.13|  0.0|     0.12|  0.0|     0.09|         0.17|        2.12|          3.2|    14.19|       0.33|       4.87|    978|   5.62|\n",
      "|       H|  0.0|     0.07|  0.0|     0.07|  0.0|     0.07|         0.09|        1.14|         2.98|    14.26|       0.05|       2.16|    976|   5.61|\n",
      "|       I|  0.0|      0.1|  0.0|     0.08|  0.0|     0.08|         0.11|        1.23|         2.98|    14.13|       0.09|       2.32|    953|   5.48|\n",
      "|       J|  0.0|     0.09|  0.0|     0.07|  0.0|     0.06|         0.09|        1.15|         2.88|    14.03|       0.06|       2.41|    953|   5.48|\n",
      "|       K|  0.0|     0.08|  0.0|     0.07|  0.0|     0.07|          0.1|        1.03|         2.97|    14.24|       0.16|        2.0|    976|   5.61|\n",
      "|       L|  0.0|     0.11|  0.0|     0.08|  0.0|     0.09|         0.13|         1.2|          3.0|    14.16|       0.09|       2.99|    955|   5.49|\n",
      "|       M|  0.0|     1.04| 0.01|     1.21|  0.0|     0.72|         1.44|        0.93|         3.23|    13.95|       6.46|      28.54|    978|   5.62|\n",
      "|       O|-0.01|     0.65|-0.01|     0.82| 0.01|     0.45|         0.94|        0.83|         2.96|    13.85|        2.7|       19.0|    958|   5.51|\n",
      "|       P|-0.01|     0.68|-0.04|     0.85| 0.02|     0.46|         1.02|        1.33|         3.25|    14.02|       3.86|      21.86|    975|    5.6|\n",
      "|       Q|  0.0|     0.06|  0.0|     0.05|  0.0|     0.04|         0.06|        1.48|         3.13|    14.17|       0.15|       2.84|    953|   5.48|\n",
      "|       R|  0.0|     0.19|  0.0|     0.16|  0.0|     0.12|         0.24|        2.27|         3.73|    14.47|       1.92|       7.71|    975|    5.6|\n",
      "|       S|  0.0|     0.33|  0.0|     0.35|  0.0|     0.22|         0.42|        0.75|         2.75|    13.89|       1.03|       9.75|    975|    5.6|\n",
      "+--------+-----+---------+-----+---------+-----+---------+-------------+------------+-------------+---------+-----------+-----------+-------+-------+\n",
      "\n",
      "watch_a\n"
     ]
    },
    {
     "name": "stderr",
     "output_type": "stream",
     "text": [
      "                                                                                "
     ]
    },
    {
     "name": "stdout",
     "output_type": "stream",
     "text": [
      "+--------+-----+---------+-----+---------+-----+---------+-------------+------------+-------------+---------+-----------+-----------+-------+-------+\n",
      "|activity|x_avg|x_std_avg|y_avg|y_std_avg|z_avg|z_std_avg|resultant_avg|dom_freq_avg|mean_freq_avg|num_peaks|num_peaks_1|num_peaks_2|num_seg|percent|\n",
      "+--------+-----+---------+-----+---------+-----+---------+-------------+------------+-------------+---------+-----------+-----------+-------+-------+\n",
      "|       A|  5.6|     3.54|-3.93|     3.01| 0.13|     2.61|        11.47|        1.32|         3.51|    14.78|      20.02|      37.85|   1048|   5.57|\n",
      "|       B| 1.11|     8.72|-6.99|     10.0|-0.47|     5.85|        15.49|        1.56|         3.59|    13.58|      29.89|      38.02|   1025|   5.45|\n",
      "|       C| 5.62|     3.97|-3.62|     2.93| 0.39|     2.61|        10.61|        1.05|         3.27|    14.45|      18.31|      36.34|   1032|   5.49|\n",
      "|       D| 0.63|     0.51|-2.92|     0.69| 5.24|     0.59|         9.79|        1.19|         3.78|    14.74|       2.54|       21.6|   1060|   5.64|\n",
      "|       E| 4.33|     0.57|-3.37|     0.61|  0.9|     0.69|         9.74|        0.56|         3.34|     14.7|       1.76|      20.48|   1078|   5.73|\n",
      "|       F|-0.34|     0.43|-4.28|     0.76| 6.07|     0.57|         9.78|        1.99|         4.22|    14.67|      13.06|       42.0|   1022|   5.43|\n",
      "|       G|-4.65|     1.13|-2.51|     2.33| 2.79|      2.0|        10.23|        2.28|         3.71|    14.51|      18.18|      31.22|   1040|   5.53|\n",
      "|       H|-2.16|     1.38|-6.04|     1.22|-0.21|     1.59|         9.76|        0.35|         2.69|     14.8|       4.12|      32.66|   1043|   5.55|\n",
      "|       I|-2.64|     1.77|-4.14|     1.66| 4.12|     1.79|         9.79|        0.31|         2.61|    14.63|       5.47|      32.12|   1046|   5.56|\n",
      "|       J|-2.89|     1.09|-5.82|     1.44| 2.06|     2.28|         9.76|        0.33|         2.83|    14.65|       8.33|      37.38|   1012|   5.38|\n",
      "|       K|-2.71|     1.68|-4.42|      2.0| 3.34|      1.1|         9.78|        0.28|         2.61|    14.78|       2.14|      27.02|   1075|   5.72|\n",
      "|       L|-2.52|     1.47|-4.51|     1.62| 2.91|     1.52|         9.79|        0.33|         2.73|    14.65|       3.91|      29.81|   1013|   5.39|\n",
      "|       M| 5.01|     3.08|-3.75|     3.01| 0.06|     2.71|        10.84|        0.91|         3.17|    14.08|      14.36|      34.53|   1043|   5.55|\n",
      "|       O| 1.93|     5.99|-4.58|     5.65|-0.46|     5.65|        12.17|         0.6|          3.3|    13.92|      19.19|      34.76|   1046|   5.56|\n",
      "|       P|  3.3|     6.05|-3.71|     5.86| 0.78|     6.21|        12.49|        1.27|         3.82|    14.26|      29.58|      40.37|   1058|   5.63|\n",
      "|       Q| 0.01|     0.43| -6.7|     0.75| 2.41|     0.84|         9.77|        1.49|         3.99|     14.7|      13.59|       41.8|   1072|    5.7|\n",
      "|       R|-3.21|     2.69|-3.65|     2.74| 1.93|     4.31|        10.82|        2.79|         4.77|    14.45|      33.46|      45.65|   1040|   5.53|\n",
      "|       S| 0.27|     3.86|-5.75|     3.17| 1.38|      3.6|        10.22|        0.27|          3.0|     14.3|       23.4|      39.81|   1052|   5.59|\n",
      "+--------+-----+---------+-----+---------+-----+---------+-------------+------------+-------------+---------+-----------+-----------+-------+-------+\n",
      "\n",
      "watch_g\n"
     ]
    },
    {
     "name": "stderr",
     "output_type": "stream",
     "text": [
      "[Stage 299:======================>                                  (2 + 3) / 5]"
     ]
    },
    {
     "name": "stdout",
     "output_type": "stream",
     "text": [
      "+--------+-----+---------+-----+---------+-----+---------+-------------+------------+-------------+---------+-----------+-----------+-------+-------+\n",
      "|activity|x_avg|x_std_avg|y_avg|y_std_avg|z_avg|z_std_avg|resultant_avg|dom_freq_avg|mean_freq_avg|num_peaks|num_peaks_1|num_peaks_2|num_seg|percent|\n",
      "+--------+-----+---------+-----+---------+-----+---------+-------------+------------+-------------+---------+-----------+-----------+-------+-------+\n",
      "|       A|-0.02|     1.76|  0.0|     1.07|-0.01|     2.06|         2.65|        1.04|         2.64|     13.5|       4.45|       23.7|    954|    5.6|\n",
      "|       B|-0.25|     2.26|-0.02|     2.64| 0.03|      2.5|         3.95|         1.6|         3.74|    13.62|      21.05|      41.19|    930|   5.46|\n",
      "|       C|-0.02|     1.82|-0.02|     1.03|-0.01|     1.58|         2.27|        0.89|         2.79|    13.56|       5.03|      26.43|    896|   5.26|\n",
      "|       D|  0.0|     0.29|  0.0|     0.15|  0.0|     0.15|         0.25|        1.59|         3.66|    14.47|       0.71|       6.18|    964|   5.66|\n",
      "|       E|  0.0|     0.32|  0.0|     0.17|  0.0|     0.16|         0.26|        0.88|         3.01|    14.22|       0.33|       5.41|    961|   5.64|\n",
      "|       F|  0.0|      0.3|  0.0|     0.17|  0.0|     0.16|         0.28|         2.5|         4.21|    14.67|       1.27|      26.04|    927|   5.44|\n",
      "|       G|  0.0|     0.71|  0.0|     0.52|  0.0|     0.54|         0.93|        2.59|         3.69|    14.45|       5.32|      29.57|    944|   5.54|\n",
      "|       H|  0.0|      0.6|-0.02|     0.28|-0.01|     0.34|         0.57|        0.57|         2.91|    14.44|       0.72|      20.53|    927|   5.44|\n",
      "|       I|  0.0|     0.71|-0.01|     0.33|  0.0|     0.47|          0.6|        0.61|         2.83|    14.39|       0.95|      18.51|    951|   5.58|\n",
      "|       J|  0.0|     0.78|-0.01|     0.28|  0.0|     0.29|         0.65|        0.79|         3.02|    14.34|       1.44|      24.66|    938|   5.51|\n",
      "|       K|  0.0|     0.36|  0.0|      0.2|  0.0|     0.35|         0.38|        0.43|         2.53|    14.38|       0.29|        9.3|    982|   5.77|\n",
      "|       L|  0.0|     0.55|-0.01|     0.27|  0.0|     0.38|         0.49|        0.64|         2.85|    14.27|       0.69|      13.77|    941|   5.52|\n",
      "|       M|  0.0|     1.76|  0.0|     1.14|-0.01|     1.51|         2.14|        0.92|         2.78|    13.42|       4.59|       24.6|    947|   5.56|\n",
      "|       O|-0.11|     2.67|-0.04|     2.69| 0.04|     2.59|         3.62|        0.78|         3.07|    13.47|       8.76|      26.85|    930|   5.46|\n",
      "|       P|-0.07|     2.78|-0.36|     3.42| 0.23|     2.49|         4.39|        1.39|         3.54|    14.32|      14.67|       31.2|    964|   5.66|\n",
      "|       Q|  0.0|     0.44|  0.0|     0.19|  0.0|     0.15|         0.34|        2.45|         3.96|    14.58|       1.64|       27.4|    976|   5.73|\n",
      "|       R|  0.0|     0.93|-0.01|     1.23|  0.0|     0.61|         1.49|        2.62|         4.52|    14.35|      16.36|      37.21|    944|   5.54|\n",
      "|       S|-0.02|      1.9|-0.01|     1.09|  0.0|     1.08|         2.02|         0.9|         3.09|    14.14|       9.35|      33.83|    956|   5.61|\n",
      "+--------+-----+---------+-----+---------+-----+---------+-------------+------------+-------------+---------+-----------+-----------+-------+-------+\n",
      "\n"
     ]
    },
    {
     "name": "stderr",
     "output_type": "stream",
     "text": [
      "                                                                                "
     ]
    }
   ],
   "source": [
    "# sum stats for groups \n",
    "\n",
    "def sum_stats(df):\n",
    "    tot = df.count()\n",
    "    # group by activity, agg stddev (x,y,z), avg (x,y,z), and resultant\n",
    "    df = df.groupBy(\"activity\").agg(\n",
    "        func.avg(\"x_avg\").alias(\"x_avg\"),\n",
    "        func.avg(\"x_stddev\").alias(\"x_std_avg\"),\n",
    "        func.avg(\"y_avg\").alias(\"y_avg\"),\n",
    "        func.avg(\"y_stddev\").alias(\"y_std_avg\"),\n",
    "        func.avg(\"z_avg\").alias(\"z_avg\"),\n",
    "        func.avg(\"z_stddev\").alias(\"z_std_avg\"),\n",
    "        func.avg(\"resultant\").alias(\"resultant_avg\"),\n",
    "        func.avg(\"xyz_dom_freq\").alias(\"dom_freq_avg\"),\n",
    "        func.avg(\"xyz_mean_freq\").alias(\"mean_freq_avg\"),\n",
    "        func.avg(\"xyz_num_peaks\").alias(\"num_peaks\"),\n",
    "        func.avg(\"xyz_num_peaks_t_1\").alias(\"num_peaks_1\"),\n",
    "        func.avg(\"xyz_num_peaks_t_pt1\").alias(\"num_peaks_2\"),\n",
    "        func.count(\"group_id\").alias(\"num_seg\")\n",
    "        ).sort(\"activity\") \n",
    "    \n",
    "    for c in df.columns:\n",
    "        if c == \"activity\":\n",
    "            df = df.withColumn(c, col(c))\n",
    "        elif c == \"num_seg\":\n",
    "            df = df.withColumn(c, col(c))\n",
    "            df = df.withColumn(\"percent\", func.round(100*col(c)/tot, 2) )\n",
    "        else:\n",
    "            df = df.withColumn(c, func.round(c, 2))\n",
    "            \n",
    "            \n",
    "\n",
    "    return df \n",
    "\n",
    "df_sum_stats_phone_a = sum_stats(df_phone_a_seg)\n",
    "df_sum_stats_phone_g = sum_stats(df_phone_g_seg)\n",
    "df_sum_stats_watch_a = sum_stats(df_watch_a_seg)\n",
    "df_sum_stats_watch_g = sum_stats(df_watch_g_seg)\n",
    "\n",
    "print(\"phone_a\")\n",
    "df_sum_stats_phone_a.show()\n",
    "print(\"phone_g\")\n",
    "df_sum_stats_phone_g.show()\n",
    "print(\"watch_a\")\n",
    "df_sum_stats_watch_a.show()\n",
    "print(\"watch_g\")\n",
    "df_sum_stats_watch_g.show()"
   ]
  },
  {
   "cell_type": "code",
   "execution_count": null,
   "id": "f9f80921-7174-4efa-93f9-059935d606f3",
   "metadata": {},
   "outputs": [],
   "source": [
    "# spark.stop()"
   ]
  },
  {
   "cell_type": "code",
   "execution_count": null,
   "id": "34350aa0-38d7-44d4-8b68-3f16625b8488",
   "metadata": {},
   "outputs": [],
   "source": [
    "import matplotlib.pyplot as plt\n",
    "col = func.col"
   ]
  },
  {
   "cell_type": "code",
   "execution_count": null,
   "id": "3c30993f-b2e8-4797-9050-8da2e52b7633",
   "metadata": {},
   "outputs": [],
   "source": [
    "# Extract arrays for example activities   \n",
    "df_filtered = df_phone_a_seg.filter(\n",
    "    ((col(\"sub_id\") == 1600) & (col(\"activity\") == \"A\") & (col(\"group_id\") == 1)) |\n",
    "    ((col(\"sub_id\") == 1600) & (col(\"activity\") == \"B\") & (col(\"group_id\") == 1)) |\n",
    "    ((col(\"sub_id\") == 1600) & (col(\"activity\") == \"D\") & (col(\"group_id\") == 1))\n",
    ")\n",
    "data = df_filtered.collect()\n",
    "\n",
    "plot_data = {}\n",
    "for row in data:\n",
    "    plot_data[row['activity']] = {\n",
    "        \"x\": row[\"x\"],\n",
    "        \"y\": row[\"y\"],\n",
    "        \"z\": row[\"z\"],\n",
    "        \"xyz\": row['sum_xyz']\n",
    "    }"
   ]
  },
  {
   "cell_type": "code",
   "execution_count": null,
   "id": "c94e3855-d824-4acc-a720-034aae0a38b6",
   "metadata": {},
   "outputs": [],
   "source": [
    "# plot example activities \n",
    "fig, axes = plt.subplots(3, 1, figsize=(10, 6))\n",
    "\n",
    "x = range(0,200)\n",
    "\n",
    "for ax, (key, data) in zip(axes, plot_data.items()):\n",
    "    ax.plot(x, data[\"x\"], label=\"X\", color=\"red\")\n",
    "    ax.plot(x, data[\"y\"], label=\"Y\", color=\"green\")\n",
    "    ax.plot(x, data[\"z\"], label=\"Z\", color=\"blue\")\n",
    "    ax.plot(x, data[\"xyz\"], label=\"sum\", color=\"black\")\n",
    "    ax.set_title(f\"Activity {key}\")\n",
    "    ax.grid()\n",
    "    ax.set_ylim((-17, 20))\n",
    "    ax.set_ylabel(\"Sensor Data\")\n",
    "    ax.legend()\n",
    "\n",
    "axes[-1].set_xlabel(\"Samples (20 Hz)\")\n",
    "\n",
    "plt.tight_layout()\n",
    "plt.show()"
   ]
  },
  {
   "cell_type": "code",
   "execution_count": null,
   "id": "33d1bea4-e84b-470d-ad6c-aaf80643e887",
   "metadata": {},
   "outputs": [],
   "source": [
    "# Extract arrays for walking from all sensor dfs\n",
    "\n",
    "data = []\n",
    "data.append(df_phone_a_seg.filter(\n",
    "    ((col(\"sub_id\") == 1600) & (col(\"activity\") == \"A\") & (col(\"group_id\") == 1)) ).collect() )\n",
    "\n",
    "data.append(df_watch_a_seg.filter(\n",
    "    ((col(\"sub_id\") == 1600) & (col(\"activity\") == \"A\") & (col(\"group_id\") == 1)) ).collect() )\n",
    "\n",
    "data.append(df_phone_g_seg.filter(\n",
    "    ((col(\"sub_id\") == 1600) & (col(\"activity\") == \"A\") & (col(\"group_id\") == 1)) ).collect() )\n",
    "\n",
    "\n",
    "data.append(df_watch_g_seg.filter(\n",
    "    ((col(\"sub_id\") == 1600) & (col(\"activity\") == \"A\") & (col(\"group_id\") == 1)) ).collect() )\n",
    "\n",
    "# print(len(data))\n",
    "\n",
    "datasets = [\"Phone Accelerometer\", \"Watch Accelerometer\", \"Phone Gyroscope\", \"Watch Gyroscope\"]\n",
    "\n",
    "\n",
    "plot2_data = {}\n",
    "for row, name in zip(data, datasets):\n",
    "    # print(len(row))\n",
    "    plot2_data[name] = {\n",
    "        \"x\": row[0][\"x\"],\n",
    "        \"y\": row[0][\"y\"],\n",
    "        \"z\": row[0][\"z\"]\n",
    "    }\n",
    "\n",
    "plot2_data.keys()"
   ]
  },
  {
   "cell_type": "code",
   "execution_count": null,
   "id": "ede509f2-8566-4c2f-a2d3-89070fdb9981",
   "metadata": {},
   "outputs": [],
   "source": [
    "fig2, axes2 = plt.subplots(4, 1, figsize=(10, 8))\n",
    "\n",
    "x = range(0,200)\n",
    "\n",
    "for ax, (key, data) in zip(axes2, plot2_data.items()):\n",
    "    ax.plot(x, data[\"x\"], label=\"X\", color=\"red\")\n",
    "    ax.plot(x, data[\"y\"], label=\"Y\", color=\"green\")\n",
    "    ax.plot(x, data[\"z\"], label=\"Z\", color=\"blue\")\n",
    "    ax.set_title(f\"Sensor: {key}\")\n",
    "    ax.grid()\n",
    "    ax.set_ylim((-17, 21))\n",
    "    ax.set_ylabel(\"Sensor Data\")\n",
    "    ax.legend()\n",
    "\n",
    "axes2[-1].set_xlabel(\"Samples (20 Hz)\")\n",
    "\n",
    "plt.tight_layout()\n",
    "plt.show()\n"
   ]
  },
  {
   "cell_type": "code",
   "execution_count": null,
   "id": "f4c46281-ce2c-450a-9d5d-000340d28d9b",
   "metadata": {},
   "outputs": [],
   "source": [
    "# Correlation Matrix \n",
    "\n",
    "#select only numeric columns \n",
    "\n"
   ]
  }
 ],
 "metadata": {
  "kernelspec": {
   "display_name": "Python 3 (ipykernel)",
   "language": "python",
   "name": "python3"
  },
  "language_info": {
   "codemirror_mode": {
    "name": "ipython",
    "version": 3
   },
   "file_extension": ".py",
   "mimetype": "text/x-python",
   "name": "python",
   "nbconvert_exporter": "python",
   "pygments_lexer": "ipython3",
   "version": "3.11.0rc1"
  }
 },
 "nbformat": 4,
 "nbformat_minor": 5
}
